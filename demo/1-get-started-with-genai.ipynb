{
 "cells": [
  {
   "cell_type": "code",
   "execution_count": 2,
   "metadata": {},
   "outputs": [
    {
     "name": "stdout",
     "output_type": "stream",
     "text": [
      "Obtaining file:///Users/kunall/scratchpad/learn/ml-scratchpad\n",
      "  Preparing metadata (setup.py) ... \u001b[?25ldone\n",
      "\u001b[?25hInstalling collected packages: helper\n",
      "  Attempting uninstall: helper\n",
      "    Found existing installation: helper 0.0.1\n",
      "    Uninstalling helper-0.0.1:\n",
      "      Successfully uninstalled helper-0.0.1\n",
      "  Running setup.py develop for helper\n",
      "Successfully installed helper-0.0.1\n",
      "Note: you may need to restart the kernel to use updated packages.\n"
     ]
    },
    {
     "data": {
      "text/plain": [
       "'/Users/kunall/scratchpad/learn/ml-scratchpad/demo'"
      ]
     },
     "execution_count": 2,
     "metadata": {},
     "output_type": "execute_result"
    }
   ],
   "source": [
    "%pip install -e ../\n",
    "from helper.ConfigHelper import ConfigHelper"
   ]
  },
  {
   "attachments": {},
   "cell_type": "markdown",
   "metadata": {},
   "source": [
    "# Restart the kernel"
   ]
  },
  {
   "cell_type": "code",
   "execution_count": null,
   "metadata": {},
   "outputs": [],
   "source": [
    "# import IPython\n",
    "\n",
    "# app = IPython.Application.instance()\n",
    "# app.kernel.do_shutdown(True)"
   ]
  },
  {
   "cell_type": "code",
   "execution_count": null,
   "metadata": {},
   "outputs": [],
   "source": [
    "helper = ConfigHelper()\n",
    "# Load the config and install dependencies\n",
    "helper.load_config_file(\"../config/actual.env\")\n",
    "helper.install_dependencies()"
   ]
  },
  {
   "cell_type": "code",
   "execution_count": 5,
   "metadata": {},
   "outputs": [],
   "source": [
    "import pandas as pd\n",
    "import seaborn as sns\n",
    "from IPython.display import Markdown, display\n",
    "from sklearn.metrics.pairwise import cosine_similarity\n",
    "from google.cloud import aiplatform as vertexai\n",
    "from vertexai.preview.language_models import (ChatModel, InputOutputTextPair,\n",
    "                                              TextEmbeddingModel,\n",
    "                                              TextGenerationModel)"
   ]
  },
  {
   "cell_type": "code",
   "execution_count": 6,
   "metadata": {},
   "outputs": [],
   "source": [
    "# load the model\n",
    "gen_model = TextGenerationModel.from_pretrained(\"text-bison@001\")"
   ]
  },
  {
   "cell_type": "code",
   "execution_count": 43,
   "metadata": {},
   "outputs": [
    {
     "name": "stdout",
     "output_type": "stream",
     "text": [
      "The sentiment on Tesla over the last two days has been positive. The stock price has increased by over 10%, and there have been several positive articles about the company.\n",
      "\n",
      "The sentiment on Tesla over the last two weeks has been mixed. The stock price has been relatively flat, and there have been both positive and negative articles about the company.\n",
      "\n",
      "The sentiment on Tesla over the last two months has been positive. The stock price has increased by over 20%, and there have been several positive articles about the company.\n",
      "\n",
      "The sentiment on Tesla over the last two years has been positive. The stock price\n"
     ]
    }
   ],
   "source": [
    "prompt = \"\"\"What has been a sentiment on Tesla over the last:\n",
    "- two days\n",
    "- two weeks\n",
    "- two months\n",
    "- two years\n",
    "\"\"\"\n",
    "\n",
    "response = gen_model.predict(prompt=prompt, temperature=0)\n",
    "\n",
    "print(response.text)"
   ]
  }
 ],
 "metadata": {
  "kernelspec": {
   "display_name": "Python 3",
   "language": "python",
   "name": "python3"
  },
  "language_info": {
   "codemirror_mode": {
    "name": "ipython",
    "version": 3
   },
   "file_extension": ".py",
   "mimetype": "text/x-python",
   "name": "python",
   "nbconvert_exporter": "python",
   "pygments_lexer": "ipython3",
   "version": "3.11.2"
  },
  "orig_nbformat": 4
 },
 "nbformat": 4,
 "nbformat_minor": 2
}
